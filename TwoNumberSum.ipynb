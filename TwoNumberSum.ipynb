{
 "cells": [
  {
   "cell_type": "markdown",
   "metadata": {},
   "source": [
    "<h2 color=\"blue\">Problem Description</h2>\n",
    "\n",
    "Given, An Array of integers and a Target Sum <br>\n",
    "The task is find, two number such that their sum is equal to the Target Sum <br/>\n",
    "\n",
    "<img align=\"center\" src = \"assets/two_number_sum.png\" height=50% width=50% />"
   ]
  },
  {
   "cell_type": "code",
   "execution_count": 1,
   "metadata": {},
   "outputs": [],
   "source": [
    "# Find x & y , such that, x+y = target_sum"
   ]
  },
  {
   "cell_type": "markdown",
   "metadata": {},
   "source": [
    "## *Approach 1*\n",
    "### *O(n^2) time & O(1) space*"
   ]
  },
  {
   "cell_type": "code",
   "execution_count": 2,
   "metadata": {},
   "outputs": [],
   "source": [
    "def twoNumberSum(array,targetSum):\n",
    "    for i in range(len(array)-1):\n",
    "        firstNum = array[i]\n",
    "        for j in range(i+1,len(array)):\n",
    "            secondNum  = array[j]\n",
    "            if firstNum + secondNum == targetSum:\n",
    "                return [firstNum,secondNum]\n",
    "    return []"
   ]
  },
  {
   "cell_type": "markdown",
   "metadata": {},
   "source": [
    "## *Approach 2*\n",
    "### *O(n) time & O(n) Space*"
   ]
  },
  {
   "cell_type": "code",
   "execution_count": 12,
   "metadata": {},
   "outputs": [],
   "source": [
    "def twoNumberSum(array,targetSum):\n",
    "    nums = {}\n",
    "    for num in array:\n",
    "        potentialMatch = targetSum - num\n",
    "        if potentialMatch in nums:\n",
    "            \n",
    "            \n",
    "            firstIdx = array.index(potentialMatch)\n",
    "            secondIdx = array[firstIdx+1:].index(num)\n",
    "            return [firstIdx,secondIdx+firstIdx+1]\n",
    "        else:\n",
    "            nums[num] = True\n",
    "    return []"
   ]
  },
  {
   "cell_type": "code",
   "execution_count": 15,
   "metadata": {},
   "outputs": [
    {
     "data": {
      "text/plain": [
       "[0, 1]"
      ]
     },
     "execution_count": 15,
     "metadata": {},
     "output_type": "execute_result"
    }
   ],
   "source": [
    "twoNumberSum([2,7,11,15],9)"
   ]
  },
  {
   "cell_type": "markdown",
   "metadata": {},
   "source": [
    "## *Approach 3*\n",
    "### *O(nlog(n)) time & 0(1) space*"
   ]
  },
  {
   "cell_type": "code",
   "execution_count": null,
   "metadata": {},
   "outputs": [],
   "source": [
    "def twoNumberSum(array,targetSum):\n",
    "    array.sort()\n",
    "    left = 0\n",
    "    right = len(array) - 1\n",
    "    while left < right:\n",
    "        currentSum = array[left] + array[right]\n",
    "        if currentSum == targetSum:\n",
    "            return [array[left],array[right]]\n",
    "        elif currentSum < targetSum:\n",
    "            left += 1\n",
    "        elif:\n",
    "            right -= 1\n",
    "    return []"
   ]
  },
  {
   "cell_type": "code",
   "execution_count": 30,
   "metadata": {},
   "outputs": [],
   "source": [
    "def twoNumberSum(numbers,target):\n",
    "    left = 0\n",
    "    right = len(numbers) - 1\n",
    "\n",
    "    while left < right:\n",
    "        current_sum = numbers[left] + numbers[right]\n",
    "        if current_sum == target:\n",
    "            firstIdx = numbers.index(numbers[left])\n",
    "            secondIdx = numbers[firstIdx+1:].index(numbers[right])\n",
    "            return [firstIdx,secondIdx+1+firstIdx]\n",
    "        elif current_sum < target:\n",
    "            left += 1\n",
    "        elif current_sum > target:\n",
    "            right -= 1\n",
    "    return []"
   ]
  },
  {
   "cell_type": "code",
   "execution_count": 31,
   "metadata": {},
   "outputs": [
    {
     "name": "stdout",
     "output_type": "stream",
     "text": [
      "left  0\n",
      "right  3\n",
      "left  0\n",
      "right  2\n",
      "left  0\n",
      "right  1\n"
     ]
    },
    {
     "data": {
      "text/plain": [
       "[0, 1]"
      ]
     },
     "execution_count": 31,
     "metadata": {},
     "output_type": "execute_result"
    }
   ],
   "source": [
    "twoNumberSum([2,7,11,15],9)"
   ]
  },
  {
   "cell_type": "code",
   "execution_count": null,
   "metadata": {},
   "outputs": [],
   "source": []
  }
 ],
 "metadata": {
  "kernelspec": {
   "display_name": "Python 3",
   "language": "python",
   "name": "python3"
  },
  "language_info": {
   "codemirror_mode": {
    "name": "ipython",
    "version": 3
   },
   "file_extension": ".py",
   "mimetype": "text/x-python",
   "name": "python",
   "nbconvert_exporter": "python",
   "pygments_lexer": "ipython3",
   "version": "3.7.6"
  }
 },
 "nbformat": 4,
 "nbformat_minor": 4
}
