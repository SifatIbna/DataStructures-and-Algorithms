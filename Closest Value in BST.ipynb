{
 "cells": [
  {
   "cell_type": "markdown",
   "metadata": {},
   "source": [
    "# *Finding the closest value in BST Given an INPUT value*"
   ]
  },
  {
   "cell_type": "code",
   "execution_count": 1,
   "metadata": {},
   "outputs": [],
   "source": [
    "## INPUT: a Tree and a Target"
   ]
  },
  {
   "cell_type": "markdown",
   "metadata": {},
   "source": [
    "### *Average Time Complexity: O(log(N))* | *Space complexity: O(log(N))*\n",
    "### *Worst Time Complexity: O(n)* | *Space complexity: O(n)*"
   ]
  },
  {
   "cell_type": "code",
   "execution_count": 6,
   "metadata": {},
   "outputs": [],
   "source": [
    "def findClosestValueinBst(tree,target):\n",
    "    return findClosestValueInBstHelper(tree,target,float(\"inf\"))"
   ]
  },
  {
   "cell_type": "code",
   "execution_count": 8,
   "metadata": {},
   "outputs": [],
   "source": [
    "## Implementation 1"
   ]
  },
  {
   "cell_type": "code",
   "execution_count": 9,
   "metadata": {},
   "outputs": [],
   "source": [
    "def findClosestValueInBstHelper(tree,target,closest):\n",
    "    if tree is None:\n",
    "        return closest\n",
    "    if abs(target-closest) > abs(target-tree.value):\n",
    "        closest = tree.value\n",
    "    if target < tree.value:\n",
    "        return findClosestValueInBstHelper(tree.left,target,closest)\n",
    "    elif target > tree.value:\n",
    "        return findClosestValueInBstHelper(tree.right,target,closest)\n",
    "    else:\n",
    "        return closest"
   ]
  },
  {
   "cell_type": "code",
   "execution_count": 10,
   "metadata": {},
   "outputs": [],
   "source": [
    "## Implementation 2"
   ]
  },
  {
   "cell_type": "markdown",
   "metadata": {},
   "source": [
    "### *Average Time Complexity: O(log(N))* | *Space complexity: O(1)*\n",
    "### *Worst Time Complexity: O(n)* | *Space complexity: O(1)*"
   ]
  },
  {
   "cell_type": "code",
   "execution_count": null,
   "metadata": {},
   "outputs": [],
   "source": [
    "def findClosestValueInBstHelper(tree,target,closest):\n",
    "    \n",
    "    currentNode = tree\n",
    "    while currentNode is not None:\n",
    "        if tree is None:\n",
    "            return closest\n",
    "        if abs(target-closest) > abs(target-currentNode.value):\n",
    "            closest = currentNode.value\n",
    "        if target < tree.value:\n",
    "            currentNode = currentNode.left\n",
    "        elif target > tree.value:\n",
    "            currentNode = currentNode.right\n",
    "        else:\n",
    "            return closest"
   ]
  }
 ],
 "metadata": {
  "kernelspec": {
   "display_name": "Python 3",
   "language": "python",
   "name": "python3"
  },
  "language_info": {
   "codemirror_mode": {
    "name": "ipython",
    "version": 3
   },
   "file_extension": ".py",
   "mimetype": "text/x-python",
   "name": "python",
   "nbconvert_exporter": "python",
   "pygments_lexer": "ipython3",
   "version": "3.7.6"
  }
 },
 "nbformat": 4,
 "nbformat_minor": 4
}
