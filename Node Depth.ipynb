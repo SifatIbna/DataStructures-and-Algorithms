{
 "cells": [
  {
   "cell_type": "markdown",
   "metadata": {},
   "source": [
    "*Given a Binary Tree, we have to find the sum of each node depths*"
   ]
  },
  {
   "cell_type": "code",
   "execution_count": 1,
   "metadata": {},
   "outputs": [],
   "source": [
    "#O (n)(time) | O(h) space (avg)"
   ]
  },
  {
   "cell_type": "code",
   "execution_count": 3,
   "metadata": {},
   "outputs": [],
   "source": [
    "# Stack Approach"
   ]
  },
  {
   "cell_type": "code",
   "execution_count": 2,
   "metadata": {},
   "outputs": [],
   "source": [
    "def nodeDepths(root):\n",
    "    sumOfDepths = 0\n",
    "    stack = [{\"node\":root,\"depth\":0}]\n",
    "    while len(stack)>0:\n",
    "        nodeInfo = stack.pop()\n",
    "        node,depth = nodeInfo[\"node\"],nodeInfo[\"depth\"]\n",
    "        if node is None:\n",
    "            continue\n",
    "        sumOfDepths += depth\n",
    "        stack.append({\"node\":node.left,\"depth\":depth+1})\n",
    "        stack.append({\"node\":node.right,\"depth\":depth+1})\n",
    "    return sumOfDepths"
   ]
  },
  {
   "cell_type": "code",
   "execution_count": 7,
   "metadata": {},
   "outputs": [],
   "source": [
    "# Recusive Approach\n",
    "#O(n) Time & o(h) space -> Going Down only one depth at a time"
   ]
  },
  {
   "cell_type": "code",
   "execution_count": 5,
   "metadata": {},
   "outputs": [],
   "source": [
    "def nodeDepths(root,depth=0):\n",
    "    if root is None:\n",
    "        return 0\n",
    "    return depth + nodeDepths(root.left,depth+1) + nodeDepth(root.right,depth+1)"
   ]
  },
  {
   "cell_type": "code",
   "execution_count": null,
   "metadata": {},
   "outputs": [],
   "source": []
  }
 ],
 "metadata": {
  "kernelspec": {
   "display_name": "Python 3",
   "language": "python",
   "name": "python3"
  },
  "language_info": {
   "codemirror_mode": {
    "name": "ipython",
    "version": 3
   },
   "file_extension": ".py",
   "mimetype": "text/x-python",
   "name": "python",
   "nbconvert_exporter": "python",
   "pygments_lexer": "ipython3",
   "version": "3.7.6"
  }
 },
 "nbformat": 4,
 "nbformat_minor": 4
}
